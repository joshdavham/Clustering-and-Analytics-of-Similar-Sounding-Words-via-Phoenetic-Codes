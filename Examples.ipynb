{
 "cells": [
  {
   "cell_type": "markdown",
   "metadata": {},
   "source": [
    "# Dependencies (if using Binder)"
   ]
  },
  {
   "cell_type": "code",
   "execution_count": 1,
   "metadata": {},
   "outputs": [],
   "source": [
    "#Important!\n",
    "#Uncomment and run this cell if using Binder\n",
    "#!pip install numpy\n",
    "#!pip install pandas\n",
    "#!pip install sklearn\n",
    "#!pip install seaborn"
   ]
  },
  {
   "cell_type": "code",
   "execution_count": 2,
   "metadata": {},
   "outputs": [],
   "source": [
    "import numpy as np\n",
    "import pandas as pd\n",
    "import unicodedata\n",
    "from sklearn.cluster import AffinityPropagation\n",
    "from sklearn.manifold import TSNE\n",
    "import seaborn as sns\n",
    "\n",
    "from functions import *"
   ]
  },
  {
   "cell_type": "markdown",
   "metadata": {},
   "source": [
    "# Example 1"
   ]
  },
  {
   "cell_type": "code",
   "execution_count": 3,
   "metadata": {},
   "outputs": [],
   "source": [
    "#Fill up the DataFrame with our words\n",
    "df1 = pd.DataFrame({\"words\":[\"canada\",\"keneda\",\"vague\",\"wag\",\"dangerous\"]})"
   ]
  },
  {
   "cell_type": "code",
   "execution_count": 4,
   "metadata": {},
   "outputs": [],
   "source": [
    "#Find the double-metaphone code(s) for each word\n",
    "dms_1 = []\n",
    "for i in range(len(df1)):\n",
    "    dms_1.append(dm(df1.iloc[i][\"words\"]))"
   ]
  },
  {
   "cell_type": "code",
   "execution_count": 5,
   "metadata": {},
   "outputs": [],
   "source": [
    "#Create a new column in the DataFrame\n",
    "df1[\"double_metaphone\"] = dms_1"
   ]
  },
  {
   "cell_type": "code",
   "execution_count": 6,
   "metadata": {},
   "outputs": [],
   "source": [
    "#Build the affinity matrix\n",
    "af_ma1 = affinity_matrix(df1[\"words\"], \"double_metaphone\", 1)"
   ]
  },
  {
   "cell_type": "code",
   "execution_count": 7,
   "metadata": {},
   "outputs": [
    {
     "data": {
      "text/plain": [
       "array([[ 0,  0, -4, -4, -5],\n",
       "       [ 0,  0, -4, -4, -5],\n",
       "       [-4, -4,  0,  0, -5],\n",
       "       [-4, -4,  0,  0, -5],\n",
       "       [-5, -5, -5, -5,  0]])"
      ]
     },
     "execution_count": 7,
     "metadata": {},
     "output_type": "execute_result"
    }
   ],
   "source": [
    "af_ma1"
   ]
  },
  {
   "cell_type": "code",
   "execution_count": 8,
   "metadata": {},
   "outputs": [],
   "source": [
    "#Begin the Affinity Propagation\n",
    "AP1 = AffinityPropagation(affinity='precomputed')"
   ]
  },
  {
   "cell_type": "code",
   "execution_count": 9,
   "metadata": {},
   "outputs": [],
   "source": [
    "#Predict cluster membership for each word\n",
    "clusters1 = AP1.fit_predict(af_ma1)"
   ]
  },
  {
   "cell_type": "code",
   "execution_count": 10,
   "metadata": {},
   "outputs": [],
   "source": [
    "#Create a new cluster column\n",
    "df1[\"cluster\"] = clusters1"
   ]
  },
  {
   "cell_type": "code",
   "execution_count": 11,
   "metadata": {},
   "outputs": [
    {
     "data": {
      "text/html": [
       "<div>\n",
       "<style scoped>\n",
       "    .dataframe tbody tr th:only-of-type {\n",
       "        vertical-align: middle;\n",
       "    }\n",
       "\n",
       "    .dataframe tbody tr th {\n",
       "        vertical-align: top;\n",
       "    }\n",
       "\n",
       "    .dataframe thead th {\n",
       "        text-align: right;\n",
       "    }\n",
       "</style>\n",
       "<table border=\"1\" class=\"dataframe\">\n",
       "  <thead>\n",
       "    <tr style=\"text-align: right;\">\n",
       "      <th></th>\n",
       "      <th>words</th>\n",
       "      <th>double_metaphone</th>\n",
       "      <th>cluster</th>\n",
       "    </tr>\n",
       "  </thead>\n",
       "  <tbody>\n",
       "    <tr>\n",
       "      <th>0</th>\n",
       "      <td>canada</td>\n",
       "      <td>(KNT, )</td>\n",
       "      <td>0</td>\n",
       "    </tr>\n",
       "    <tr>\n",
       "      <th>1</th>\n",
       "      <td>keneda</td>\n",
       "      <td>(KNT, )</td>\n",
       "      <td>0</td>\n",
       "    </tr>\n",
       "    <tr>\n",
       "      <th>2</th>\n",
       "      <td>vague</td>\n",
       "      <td>(FK, )</td>\n",
       "      <td>1</td>\n",
       "    </tr>\n",
       "    <tr>\n",
       "      <th>3</th>\n",
       "      <td>wag</td>\n",
       "      <td>(AK, FK)</td>\n",
       "      <td>1</td>\n",
       "    </tr>\n",
       "    <tr>\n",
       "      <th>4</th>\n",
       "      <td>dangerous</td>\n",
       "      <td>(TNJRS, TNKRS)</td>\n",
       "      <td>2</td>\n",
       "    </tr>\n",
       "  </tbody>\n",
       "</table>\n",
       "</div>"
      ],
      "text/plain": [
       "       words double_metaphone  cluster\n",
       "0     canada          (KNT, )        0\n",
       "1     keneda          (KNT, )        0\n",
       "2      vague           (FK, )        1\n",
       "3        wag         (AK, FK)        1\n",
       "4  dangerous   (TNJRS, TNKRS)        2"
      ]
     },
     "execution_count": 11,
     "metadata": {},
     "output_type": "execute_result"
    }
   ],
   "source": [
    "df1"
   ]
  },
  {
   "cell_type": "markdown",
   "metadata": {},
   "source": [
    "# Example 2"
   ]
  },
  {
   "cell_type": "code",
   "execution_count": 12,
   "metadata": {},
   "outputs": [],
   "source": [
    "#Build our DataFrame\n",
    "df2 = pd.DataFrame({\"words\":[\"their\",\"dere\",\"there\",\"too\",\"two\",\"do\",\"vaffle\",\"waffle\",\"baffle\",\"vogue\",\"rogue\",\"wog\",\"celsey\",\"kelsey\"]})"
   ]
  },
  {
   "cell_type": "code",
   "execution_count": 13,
   "metadata": {},
   "outputs": [],
   "source": [
    "#Compute the double-metaphone code(s) of each word\n",
    "dms_2 = []\n",
    "for i in range(len(df2)):\n",
    "    dms_2.append(dm(df2.iloc[i][\"words\"]))"
   ]
  },
  {
   "cell_type": "code",
   "execution_count": 14,
   "metadata": {},
   "outputs": [],
   "source": [
    "#Create a new column of double-metaphone code(s)\n",
    "df2[\"double_metaphone\"] = dms_2"
   ]
  },
  {
   "cell_type": "code",
   "execution_count": 15,
   "metadata": {},
   "outputs": [],
   "source": [
    "#Build the affinity matrix\n",
    "af_ma2 = affinity_matrix(df2[\"words\"],\"double_metaphone\",1)"
   ]
  },
  {
   "cell_type": "code",
   "execution_count": 16,
   "metadata": {},
   "outputs": [
    {
     "data": {
      "text/plain": [
       "array([[ 0,  0,  0, -1, -1, -1, -4, -4, -4, -3, -3, -3, -4, -4],\n",
       "       [ 0,  0,  0, -1, -1, -1, -4, -4, -4, -3, -3, -3, -4, -4],\n",
       "       [ 0,  0,  0, -1, -1, -1, -4, -4, -4, -3, -3, -3, -4, -4],\n",
       "       [-1, -1, -1,  0,  0,  0, -4, -4, -4, -3, -3, -3, -4, -4],\n",
       "       [-1, -1, -1,  0,  0,  0, -4, -4, -4, -3, -3, -3, -4, -4],\n",
       "       [-1, -1, -1,  0,  0,  0, -4, -4, -4, -3, -3, -3, -4, -4],\n",
       "       [-4, -4, -4, -4, -4, -4,  0,  0, -2, -2, -4, -2, -4, -4],\n",
       "       [-4, -4, -4, -4, -4, -4,  0,  0, -2, -2, -4, -2, -4, -4],\n",
       "       [-4, -4, -4, -4, -4, -4, -2, -2,  0, -3, -4, -3, -4, -4],\n",
       "       [-3, -3, -3, -3, -3, -3, -2, -2, -3,  0, -2,  0, -4, -4],\n",
       "       [-3, -3, -3, -3, -3, -3, -4, -4, -4, -2,  0, -2, -4, -4],\n",
       "       [-3, -3, -3, -3, -3, -3, -2, -2, -3,  0, -2,  0, -4, -4],\n",
       "       [-4, -4, -4, -4, -4, -4, -4, -4, -4, -4, -4, -4,  0, -2],\n",
       "       [-4, -4, -4, -4, -4, -4, -4, -4, -4, -4, -4, -4, -2,  0]])"
      ]
     },
     "execution_count": 16,
     "metadata": {},
     "output_type": "execute_result"
    }
   ],
   "source": [
    "af_ma2"
   ]
  },
  {
   "cell_type": "code",
   "execution_count": 17,
   "metadata": {},
   "outputs": [],
   "source": [
    "#Begin the Affinity Propagation\n",
    "AP2 = AffinityPropagation(affinity='precomputed')"
   ]
  },
  {
   "cell_type": "code",
   "execution_count": 18,
   "metadata": {},
   "outputs": [],
   "source": [
    "#Predict cluster memberships\n",
    "clusters2 = AP2.fit_predict(af_ma2)"
   ]
  },
  {
   "cell_type": "code",
   "execution_count": 19,
   "metadata": {},
   "outputs": [],
   "source": [
    "#Create a cluster column for the DataFrame\n",
    "df2[\"cluster\"] = clusters2"
   ]
  },
  {
   "cell_type": "code",
   "execution_count": 20,
   "metadata": {},
   "outputs": [
    {
     "data": {
      "text/html": [
       "<div>\n",
       "<style scoped>\n",
       "    .dataframe tbody tr th:only-of-type {\n",
       "        vertical-align: middle;\n",
       "    }\n",
       "\n",
       "    .dataframe tbody tr th {\n",
       "        vertical-align: top;\n",
       "    }\n",
       "\n",
       "    .dataframe thead th {\n",
       "        text-align: right;\n",
       "    }\n",
       "</style>\n",
       "<table border=\"1\" class=\"dataframe\">\n",
       "  <thead>\n",
       "    <tr style=\"text-align: right;\">\n",
       "      <th></th>\n",
       "      <th>words</th>\n",
       "      <th>double_metaphone</th>\n",
       "      <th>cluster</th>\n",
       "    </tr>\n",
       "  </thead>\n",
       "  <tbody>\n",
       "    <tr>\n",
       "      <th>0</th>\n",
       "      <td>their</td>\n",
       "      <td>(0R, TR)</td>\n",
       "      <td>0</td>\n",
       "    </tr>\n",
       "    <tr>\n",
       "      <th>1</th>\n",
       "      <td>dere</td>\n",
       "      <td>(TR, )</td>\n",
       "      <td>0</td>\n",
       "    </tr>\n",
       "    <tr>\n",
       "      <th>2</th>\n",
       "      <td>there</td>\n",
       "      <td>(0R, TR)</td>\n",
       "      <td>0</td>\n",
       "    </tr>\n",
       "    <tr>\n",
       "      <th>3</th>\n",
       "      <td>too</td>\n",
       "      <td>(T, )</td>\n",
       "      <td>1</td>\n",
       "    </tr>\n",
       "    <tr>\n",
       "      <th>4</th>\n",
       "      <td>two</td>\n",
       "      <td>(T, )</td>\n",
       "      <td>1</td>\n",
       "    </tr>\n",
       "    <tr>\n",
       "      <th>5</th>\n",
       "      <td>do</td>\n",
       "      <td>(T, )</td>\n",
       "      <td>1</td>\n",
       "    </tr>\n",
       "    <tr>\n",
       "      <th>6</th>\n",
       "      <td>vaffle</td>\n",
       "      <td>(FFL, )</td>\n",
       "      <td>2</td>\n",
       "    </tr>\n",
       "    <tr>\n",
       "      <th>7</th>\n",
       "      <td>waffle</td>\n",
       "      <td>(AFL, FFL)</td>\n",
       "      <td>2</td>\n",
       "    </tr>\n",
       "    <tr>\n",
       "      <th>8</th>\n",
       "      <td>baffle</td>\n",
       "      <td>(PFL, )</td>\n",
       "      <td>2</td>\n",
       "    </tr>\n",
       "    <tr>\n",
       "      <th>9</th>\n",
       "      <td>vogue</td>\n",
       "      <td>(FK, )</td>\n",
       "      <td>3</td>\n",
       "    </tr>\n",
       "    <tr>\n",
       "      <th>10</th>\n",
       "      <td>rogue</td>\n",
       "      <td>(RK, )</td>\n",
       "      <td>3</td>\n",
       "    </tr>\n",
       "    <tr>\n",
       "      <th>11</th>\n",
       "      <td>wog</td>\n",
       "      <td>(AK, FK)</td>\n",
       "      <td>3</td>\n",
       "    </tr>\n",
       "    <tr>\n",
       "      <th>12</th>\n",
       "      <td>celsey</td>\n",
       "      <td>(SLS, )</td>\n",
       "      <td>4</td>\n",
       "    </tr>\n",
       "    <tr>\n",
       "      <th>13</th>\n",
       "      <td>kelsey</td>\n",
       "      <td>(KLS, )</td>\n",
       "      <td>4</td>\n",
       "    </tr>\n",
       "  </tbody>\n",
       "</table>\n",
       "</div>"
      ],
      "text/plain": [
       "     words double_metaphone  cluster\n",
       "0    their         (0R, TR)        0\n",
       "1     dere           (TR, )        0\n",
       "2    there         (0R, TR)        0\n",
       "3      too            (T, )        1\n",
       "4      two            (T, )        1\n",
       "5       do            (T, )        1\n",
       "6   vaffle          (FFL, )        2\n",
       "7   waffle       (AFL, FFL)        2\n",
       "8   baffle          (PFL, )        2\n",
       "9    vogue           (FK, )        3\n",
       "10   rogue           (RK, )        3\n",
       "11     wog         (AK, FK)        3\n",
       "12  celsey          (SLS, )        4\n",
       "13  kelsey          (KLS, )        4"
      ]
     },
     "execution_count": 20,
     "metadata": {},
     "output_type": "execute_result"
    }
   ],
   "source": [
    "df2"
   ]
  },
  {
   "cell_type": "code",
   "execution_count": 21,
   "metadata": {},
   "outputs": [],
   "source": [
    "#Create distance matrix for t-SNE to use\n",
    "di_ma2 = -af_ma2"
   ]
  },
  {
   "cell_type": "code",
   "execution_count": 22,
   "metadata": {},
   "outputs": [],
   "source": [
    "#Initialize t-SNE with n_components=2 and perplexity=3\n",
    "tsne2 = TSNE(n_components=2, perplexity=3, metric='precomputed')"
   ]
  },
  {
   "cell_type": "code",
   "execution_count": 23,
   "metadata": {},
   "outputs": [],
   "source": [
    "#Create X and Y Axes from t-SNE\n",
    "TCs = pd.DataFrame(tsne2.fit_transform(di_ma2))\n",
    "TCs.columns = [\"TCX\",\"TCY\"]"
   ]
  },
  {
   "cell_type": "code",
   "execution_count": 24,
   "metadata": {},
   "outputs": [],
   "source": [
    "#Add the t-SNE columns to the DataFrame\n",
    "df2 = pd.concat([df2,TCs], axis=1, join='inner')"
   ]
  },
  {
   "cell_type": "code",
   "execution_count": 25,
   "metadata": {},
   "outputs": [],
   "source": [
    "#Need to know in order to colour the plot properly\n",
    "num_clusters2 = len(df2[\"cluster\"].value_counts())"
   ]
  },
  {
   "cell_type": "code",
   "execution_count": 26,
   "metadata": {},
   "outputs": [
    {
     "data": {
      "text/plain": [
       "Text(0.5, 1.0, 't-SNE plot with perplexity=3')"
      ]
     },
     "execution_count": 26,
     "metadata": {},
     "output_type": "execute_result"
    },
    {
     "data": {
      "image/png": "[encoded data removed]",
      "text/plain": [
       "<Figure size 432x288 with 1 Axes>"
      ]
     },
     "metadata": {
      "needs_background": "light"
     },
     "output_type": "display_data"
    }
   ],
   "source": [
    "#Plot the data\n",
    "title = \"t-SNE plot with perplexity=3\"\n",
    "ax = sns.scatterplot(x=\"TCX\", y=\"TCY\", hue=\"cluster\", palette=sns.color_palette(\"hls\", num_clusters2), data=df2)\n",
    "ax.set_title(title)"
   ]
  },
  {
   "cell_type": "code",
   "execution_count": null,
   "metadata": {},
   "outputs": [],
   "source": []
  }
 ],
 "metadata": {
  "kernelspec": {
   "display_name": "Python 3",
   "language": "python",
   "name": "python3"
  },
  "language_info": {
   "codemirror_mode": {
    "name": "ipython",
    "version": 3
   },
   "file_extension": ".py",
   "mimetype": "text/x-python",
   "name": "python",
   "nbconvert_exporter": "python",
   "pygments_lexer": "ipython3",
   "version": "3.7.7"
  }
 },
 "nbformat": 4,
 "nbformat_minor": 2
}
