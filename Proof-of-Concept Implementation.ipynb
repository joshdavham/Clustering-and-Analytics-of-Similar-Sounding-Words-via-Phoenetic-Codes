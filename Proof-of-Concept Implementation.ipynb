{
 "cells": [
  {
   "cell_type": "markdown",
   "metadata": {},
   "source": [
    "# Dependencies (if using Binder)"
   ]
  },
  {
   "cell_type": "code",
   "execution_count": 1,
   "metadata": {},
   "outputs": [],
   "source": [
    "#Important!\n",
    "#Uncomment and run this cell if using Binder\n",
    "#!pip install numpy\n",
    "#!pip install pandas\n",
    "#!pip install sklearn\n",
    "#!pip install seaborn\n",
    "#!pip install matplotlib"
   ]
  },
  {
   "cell_type": "markdown",
   "metadata": {},
   "source": [
    "# Imports:"
   ]
  },
  {
   "cell_type": "code",
   "execution_count": 2,
   "metadata": {},
   "outputs": [],
   "source": [
    "#Libraries\n",
    "import numpy as np #used for arrays and matrices\n",
    "import pandas as pd #used for DataFrames\n",
    "import unicodedata #needed for the double-metaphone algorithm\n",
    "from sklearn.cluster import AffinityPropagation #Our method of clustering\n",
    "from sklearn.manifold import TSNE #used to visualize our data\n",
    "import seaborn as sns #required for scatterplot\n",
    "from sklearn import metrics #provides metrics to measure the performance of our clustering\n",
    "import matplotlib.pyplot as plt #needed for scatterplots\n",
    "\n",
    "#We import all of our written functions\n",
    "from functions import *"
   ]
  },
  {
   "cell_type": "markdown",
   "metadata": {},
   "source": [
    "# Read the Data:"
   ]
  },
  {
   "cell_type": "markdown",
   "metadata": {},
   "source": [
    "We create two DataFrames from the same data-set of __[homophones](https://en.wikipedia.org/wiki/Homophone)__.\n",
    "\n",
    "`edit` will contain the cluster memberships of each word when pairwise distances between words are their __[levenshtein](https://en.wikipedia.org/wiki/Levenshtein_distance)__ (edit) distances.\n",
    "\n",
    "`phone` will contain the cluster memberships of each word when pairwise distances between words are phonetic."
   ]
  },
  {
   "cell_type": "code",
   "execution_count": 3,
   "metadata": {},
   "outputs": [],
   "source": [
    "#Data contained in 'homomphones.csv'\n",
    "edit = pd.read_csv(\"homophones.csv\")\n",
    "phone = pd.read_csv(\"homophones.csv\")"
   ]
  },
  {
   "cell_type": "code",
   "execution_count": 4,
   "metadata": {},
   "outputs": [
    {
     "data": {
      "text/html": [
       "<div>\n",
       "<style scoped>\n",
       "    .dataframe tbody tr th:only-of-type {\n",
       "        vertical-align: middle;\n",
       "    }\n",
       "\n",
       "    .dataframe tbody tr th {\n",
       "        vertical-align: top;\n",
       "    }\n",
       "\n",
       "    .dataframe thead th {\n",
       "        text-align: right;\n",
       "    }\n",
       "</style>\n",
       "<table border=\"1\" class=\"dataframe\">\n",
       "  <thead>\n",
       "    <tr style=\"text-align: right;\">\n",
       "      <th></th>\n",
       "      <th>word</th>\n",
       "      <th>group</th>\n",
       "    </tr>\n",
       "  </thead>\n",
       "  <tbody>\n",
       "    <tr>\n",
       "      <th>0</th>\n",
       "      <td>oar</td>\n",
       "      <td>0</td>\n",
       "    </tr>\n",
       "    <tr>\n",
       "      <th>1</th>\n",
       "      <td>or</td>\n",
       "      <td>0</td>\n",
       "    </tr>\n",
       "    <tr>\n",
       "      <th>2</th>\n",
       "      <td>ore</td>\n",
       "      <td>0</td>\n",
       "    </tr>\n",
       "    <tr>\n",
       "      <th>3</th>\n",
       "      <td>aye</td>\n",
       "      <td>1</td>\n",
       "    </tr>\n",
       "    <tr>\n",
       "      <th>4</th>\n",
       "      <td>eye</td>\n",
       "      <td>1</td>\n",
       "    </tr>\n",
       "    <tr>\n",
       "      <th>5</th>\n",
       "      <td>I</td>\n",
       "      <td>1</td>\n",
       "    </tr>\n",
       "    <tr>\n",
       "      <th>6</th>\n",
       "      <td>bel</td>\n",
       "      <td>2</td>\n",
       "    </tr>\n",
       "    <tr>\n",
       "      <th>7</th>\n",
       "      <td>bell</td>\n",
       "      <td>2</td>\n",
       "    </tr>\n",
       "    <tr>\n",
       "      <th>8</th>\n",
       "      <td>belle</td>\n",
       "      <td>2</td>\n",
       "    </tr>\n",
       "    <tr>\n",
       "      <th>9</th>\n",
       "      <td>bight</td>\n",
       "      <td>3</td>\n",
       "    </tr>\n",
       "    <tr>\n",
       "      <th>10</th>\n",
       "      <td>bite</td>\n",
       "      <td>3</td>\n",
       "    </tr>\n",
       "    <tr>\n",
       "      <th>11</th>\n",
       "      <td>byte</td>\n",
       "      <td>3</td>\n",
       "    </tr>\n",
       "  </tbody>\n",
       "</table>\n",
       "</div>"
      ],
      "text/plain": [
       "     word  group\n",
       "0     oar      0\n",
       "1      or      0\n",
       "2     ore      0\n",
       "3     aye      1\n",
       "4     eye      1\n",
       "5       I      1\n",
       "6     bel      2\n",
       "7    bell      2\n",
       "8   belle      2\n",
       "9   bight      3\n",
       "10   bite      3\n",
       "11   byte      3"
      ]
     },
     "execution_count": 4,
     "metadata": {},
     "output_type": "execute_result"
    }
   ],
   "source": [
    "#prints the first 12 values of the DataFrame\n",
    "edit.head(12)"
   ]
  },
  {
   "cell_type": "markdown",
   "metadata": {},
   "source": [
    "Two words are in the same `group` if they are homophones of eachother (they sound the same)."
   ]
  },
  {
   "cell_type": "markdown",
   "metadata": {},
   "source": [
    "In total, there are"
   ]
  },
  {
   "cell_type": "code",
   "execution_count": 5,
   "metadata": {},
   "outputs": [
    {
     "data": {
      "text/plain": [
       "116"
      ]
     },
     "execution_count": 5,
     "metadata": {},
     "output_type": "execute_result"
    }
   ],
   "source": [
    "len(phone)"
   ]
  },
  {
   "cell_type": "markdown",
   "metadata": {},
   "source": [
    "words in our dataset and "
   ]
  },
  {
   "cell_type": "code",
   "execution_count": 6,
   "metadata": {},
   "outputs": [
    {
     "data": {
      "text/plain": [
       "38"
      ]
     },
     "execution_count": 6,
     "metadata": {},
     "output_type": "execute_result"
    }
   ],
   "source": [
    "len(phone[\"group\"].value_counts())"
   ]
  },
  {
   "cell_type": "markdown",
   "metadata": {},
   "source": [
    "different sets of homophones."
   ]
  },
  {
   "cell_type": "markdown",
   "metadata": {},
   "source": [
    "For clarity, we will create a column in the `phone` DataFrame to display the double-metaphone code(s) of each word in the dataset:"
   ]
  },
  {
   "cell_type": "code",
   "execution_count": 7,
   "metadata": {},
   "outputs": [],
   "source": [
    "#dms is a list that will contain each word's double-metaphone code(s)\n",
    "dms = []\n",
    "for i in range(len(phone)):\n",
    "    dms.append(dm(phone.iloc[i][\"word\"]))"
   ]
  },
  {
   "cell_type": "code",
   "execution_count": 8,
   "metadata": {},
   "outputs": [],
   "source": [
    "phone[\"double-metaphone\"] = dms"
   ]
  },
  {
   "cell_type": "code",
   "execution_count": 9,
   "metadata": {},
   "outputs": [
    {
     "data": {
      "text/html": [
       "<div>\n",
       "<style scoped>\n",
       "    .dataframe tbody tr th:only-of-type {\n",
       "        vertical-align: middle;\n",
       "    }\n",
       "\n",
       "    .dataframe tbody tr th {\n",
       "        vertical-align: top;\n",
       "    }\n",
       "\n",
       "    .dataframe thead th {\n",
       "        text-align: right;\n",
       "    }\n",
       "</style>\n",
       "<table border=\"1\" class=\"dataframe\">\n",
       "  <thead>\n",
       "    <tr style=\"text-align: right;\">\n",
       "      <th></th>\n",
       "      <th>word</th>\n",
       "      <th>group</th>\n",
       "      <th>double-metaphone</th>\n",
       "    </tr>\n",
       "  </thead>\n",
       "  <tbody>\n",
       "    <tr>\n",
       "      <th>104</th>\n",
       "      <td>way</td>\n",
       "      <td>34</td>\n",
       "      <td>(A, F)</td>\n",
       "    </tr>\n",
       "    <tr>\n",
       "      <th>105</th>\n",
       "      <td>weigh</td>\n",
       "      <td>34</td>\n",
       "      <td>(A, F)</td>\n",
       "    </tr>\n",
       "    <tr>\n",
       "      <th>106</th>\n",
       "      <td>whey</td>\n",
       "      <td>34</td>\n",
       "      <td>(A, )</td>\n",
       "    </tr>\n",
       "    <tr>\n",
       "      <th>107</th>\n",
       "      <td>we</td>\n",
       "      <td>35</td>\n",
       "      <td>(A, F)</td>\n",
       "    </tr>\n",
       "    <tr>\n",
       "      <th>108</th>\n",
       "      <td>wee</td>\n",
       "      <td>35</td>\n",
       "      <td>(A, F)</td>\n",
       "    </tr>\n",
       "    <tr>\n",
       "      <th>109</th>\n",
       "      <td>whee</td>\n",
       "      <td>35</td>\n",
       "      <td>(A, )</td>\n",
       "    </tr>\n",
       "    <tr>\n",
       "      <th>110</th>\n",
       "      <td>weal</td>\n",
       "      <td>36</td>\n",
       "      <td>(AL, FL)</td>\n",
       "    </tr>\n",
       "    <tr>\n",
       "      <th>111</th>\n",
       "      <td>we'll</td>\n",
       "      <td>36</td>\n",
       "      <td>(AL, FL)</td>\n",
       "    </tr>\n",
       "    <tr>\n",
       "      <th>112</th>\n",
       "      <td>wheel</td>\n",
       "      <td>36</td>\n",
       "      <td>(AL, )</td>\n",
       "    </tr>\n",
       "    <tr>\n",
       "      <th>113</th>\n",
       "      <td>yore</td>\n",
       "      <td>37</td>\n",
       "      <td>(AR, )</td>\n",
       "    </tr>\n",
       "    <tr>\n",
       "      <th>114</th>\n",
       "      <td>your</td>\n",
       "      <td>37</td>\n",
       "      <td>(AR, )</td>\n",
       "    </tr>\n",
       "    <tr>\n",
       "      <th>115</th>\n",
       "      <td>you're</td>\n",
       "      <td>37</td>\n",
       "      <td>(AR, )</td>\n",
       "    </tr>\n",
       "  </tbody>\n",
       "</table>\n",
       "</div>"
      ],
      "text/plain": [
       "       word  group double-metaphone\n",
       "104     way     34           (A, F)\n",
       "105   weigh     34           (A, F)\n",
       "106    whey     34            (A, )\n",
       "107      we     35           (A, F)\n",
       "108     wee     35           (A, F)\n",
       "109    whee     35            (A, )\n",
       "110    weal     36         (AL, FL)\n",
       "111   we'll     36         (AL, FL)\n",
       "112   wheel     36           (AL, )\n",
       "113    yore     37           (AR, )\n",
       "114    your     37           (AR, )\n",
       "115  you're     37           (AR, )"
      ]
     },
     "execution_count": 9,
     "metadata": {},
     "output_type": "execute_result"
    }
   ],
   "source": [
    "#print the last 12 values of the DataFrame\n",
    "phone.tail(12)"
   ]
  },
  {
   "cell_type": "markdown",
   "metadata": {},
   "source": [
    "As we can see from above, sometimes a word is mapped to **2** different phonetic codes. That's why it's called the *double*-metaphone algorithm."
   ]
  },
  {
   "cell_type": "markdown",
   "metadata": {},
   "source": [
    "# Affinity Matrices"
   ]
  },
  {
   "cell_type": "markdown",
   "metadata": {},
   "source": [
    "Next, we will create our affinity matrices. Recall that the affinity matrix is just the negative of a distance matrix."
   ]
  },
  {
   "cell_type": "markdown",
   "metadata": {},
   "source": [
    "Our first affinity matrix will be created from a distance matrix where distances in the matrix are defined as the levenshtein (edit) distances between the words in the `edit` DataFrame ."
   ]
  },
  {
   "cell_type": "markdown",
   "metadata": {},
   "source": [
    "For example, the distance between **\"cat\"** and **\"hat\"** would be:"
   ]
  },
  {
   "cell_type": "code",
   "execution_count": 10,
   "metadata": {},
   "outputs": [
    {
     "data": {
      "text/plain": [
       "1"
      ]
     },
     "execution_count": 10,
     "metadata": {},
     "output_type": "execute_result"
    }
   ],
   "source": [
    "ED(\"cat\",\"hat\",0)"
   ]
  },
  {
   "cell_type": "markdown",
   "metadata": {},
   "source": [
    "Since 1 is the minimum number of single-character edits required to transform **\"cat\"** into **\"hat\"** or **\"hat\"** into **\"cat\"**. And therefore, their affinity-value would be **-1**."
   ]
  },
  {
   "cell_type": "code",
   "execution_count": 11,
   "metadata": {},
   "outputs": [],
   "source": [
    "#af_ma = 'affinity matrix'\n",
    "af_ma_edit = af_ma = affinity_matrix(edit[\"word\"], \"levenshtein\",0)"
   ]
  },
  {
   "cell_type": "code",
   "execution_count": 12,
   "metadata": {},
   "outputs": [
    {
     "data": {
      "text/plain": [
       "array([[ 0, -1, -2, ..., -3, -2, -4],\n",
       "       [-1,  0, -1, ..., -2, -2, -4],\n",
       "       [-2, -1,  0, ..., -1, -3, -3],\n",
       "       ...,\n",
       "       [-3, -2, -1, ...,  0, -2, -2],\n",
       "       [-2, -2, -3, ..., -2,  0, -2],\n",
       "       [-4, -4, -3, ..., -2, -2,  0]])"
      ]
     },
     "execution_count": 12,
     "metadata": {},
     "output_type": "execute_result"
    }
   ],
   "source": [
    "af_ma_edit"
   ]
  },
  {
   "cell_type": "markdown",
   "metadata": {},
   "source": [
    "We can see that there are all 0's down the diagonal. This makes sense since you don't need to perform any single-character edits on a word to transform it into itself."
   ]
  },
  {
   "cell_type": "markdown",
   "metadata": {},
   "source": [
    "Next, we create a second affinity matrix that is built from a distance matrix where distances are, instead, defined *phonetically*. \n",
    "\n",
    "This time, rather than directly computing the distance between **\"cat\"** and **\"hat\"**, themselves, we would instead compute the distance between their phonetic codes."
   ]
  },
  {
   "cell_type": "code",
   "execution_count": 13,
   "metadata": {},
   "outputs": [
    {
     "data": {
      "text/plain": [
       "('KT', '')"
      ]
     },
     "execution_count": 13,
     "metadata": {},
     "output_type": "execute_result"
    }
   ],
   "source": [
    "#The double-metaphone phonetic code for \"cat\"\n",
    "dm(\"cat\")"
   ]
  },
  {
   "cell_type": "code",
   "execution_count": 14,
   "metadata": {},
   "outputs": [
    {
     "data": {
      "text/plain": [
       "('HT', '')"
      ]
     },
     "execution_count": 14,
     "metadata": {},
     "output_type": "execute_result"
    }
   ],
   "source": [
    "#The double-metaphone phonetic code for \"hat\"\n",
    "dm(\"hat\")"
   ]
  },
  {
   "cell_type": "markdown",
   "metadata": {},
   "source": [
    "The distance between these codes is"
   ]
  },
  {
   "cell_type": "code",
   "execution_count": 15,
   "metadata": {},
   "outputs": [
    {
     "data": {
      "text/plain": [
       "2"
      ]
     },
     "execution_count": 15,
     "metadata": {},
     "output_type": "execute_result"
    }
   ],
   "source": [
    "#DM_LD stands for \"double-metaphone levenshtein distance\"\n",
    "DM_LD(dm(\"cat\"),dm(\"hat\"),1)"
   ]
  },
  {
   "cell_type": "markdown",
   "metadata": {},
   "source": [
    "This tells us that the phonetic distance between **\"cat\"** and **\"hat\"** is greater than it's edit distance - meaning that **\"cat\"** and **\"hat\"** are less similar, phonetically, than they are similar with respect to edit distance. This makes sense since **\"cat\"** and **\"hat\"** don't actually sound similar, they just *rhyme*."
   ]
  },
  {
   "cell_type": "markdown",
   "metadata": {},
   "source": [
    "If you'd like to better understand how this distance was calculated, please either refer to our paper or to the source code *functions.py*"
   ]
  },
  {
   "cell_type": "code",
   "execution_count": 16,
   "metadata": {},
   "outputs": [],
   "source": [
    "af_ma_phone = affinity_matrix(phone[\"word\"], \"double_metaphone\",1)"
   ]
  },
  {
   "cell_type": "code",
   "execution_count": 17,
   "metadata": {},
   "outputs": [
    {
     "data": {
      "text/plain": [
       "array([[0, 0, 0, ..., 0, 0, 0],\n",
       "       [0, 0, 0, ..., 0, 0, 0],\n",
       "       [0, 0, 0, ..., 0, 0, 0],\n",
       "       ...,\n",
       "       [0, 0, 0, ..., 0, 0, 0],\n",
       "       [0, 0, 0, ..., 0, 0, 0],\n",
       "       [0, 0, 0, ..., 0, 0, 0]])"
      ]
     },
     "execution_count": 17,
     "metadata": {},
     "output_type": "execute_result"
    }
   ],
   "source": [
    "af_ma_phone"
   ]
  },
  {
   "cell_type": "markdown",
   "metadata": {},
   "source": [
    "It may look like every pair of words has pairwise distance 0, but that's not true - it's just how this big matrix ends up getting displayed. For example:"
   ]
  },
  {
   "cell_type": "code",
   "execution_count": 18,
   "metadata": {},
   "outputs": [
    {
     "data": {
      "text/plain": [
       "-3"
      ]
     },
     "execution_count": 18,
     "metadata": {},
     "output_type": "execute_result"
    }
   ],
   "source": [
    "#phonetic similarity between word 50 and word 21\n",
    "af_ma_phone[50][21]"
   ]
  },
  {
   "cell_type": "markdown",
   "metadata": {},
   "source": [
    "is **not** zero."
   ]
  },
  {
   "cell_type": "markdown",
   "metadata": {},
   "source": [
    "# Affinity Propagation"
   ]
  },
  {
   "cell_type": "markdown",
   "metadata": {},
   "source": [
    "Now that we have our affinity matrices, we can go ahead and cluster our words using the **Affinity Propagation** Clustering algorithm."
   ]
  },
  {
   "cell_type": "code",
   "execution_count": 19,
   "metadata": {},
   "outputs": [],
   "source": [
    "#Clustering for each affinity matrix\n",
    "AP_edit = AffinityPropagation(affinity='precomputed')\n",
    "AP_phone = AffinityPropagation(affinity='precomputed')"
   ]
  },
  {
   "cell_type": "code",
   "execution_count": 20,
   "metadata": {},
   "outputs": [],
   "source": [
    "#Predict cluster memberhsips for each affinity matrix:\n",
    "clusters_edit = AP_edit.fit_predict(af_ma_edit)\n",
    "clusters_phone = AP_phone.fit_predict(af_ma_phone)"
   ]
  },
  {
   "cell_type": "code",
   "execution_count": 21,
   "metadata": {},
   "outputs": [],
   "source": [
    "#Create a new column in each DataFrame for each cluster membership\n",
    "edit[\"cluster\"] = clusters_edit\n",
    "phone[\"cluster\"] = clusters_phone"
   ]
  },
  {
   "cell_type": "markdown",
   "metadata": {},
   "source": [
    "# Clustering Results"
   ]
  },
  {
   "cell_type": "markdown",
   "metadata": {},
   "source": [
    "Let's take a quick look at how the words were clustered:"
   ]
  },
  {
   "cell_type": "code",
   "execution_count": 22,
   "metadata": {},
   "outputs": [
    {
     "data": {
      "text/html": [
       "<div>\n",
       "<style scoped>\n",
       "    .dataframe tbody tr th:only-of-type {\n",
       "        vertical-align: middle;\n",
       "    }\n",
       "\n",
       "    .dataframe tbody tr th {\n",
       "        vertical-align: top;\n",
       "    }\n",
       "\n",
       "    .dataframe thead th {\n",
       "        text-align: right;\n",
       "    }\n",
       "</style>\n",
       "<table border=\"1\" class=\"dataframe\">\n",
       "  <thead>\n",
       "    <tr style=\"text-align: right;\">\n",
       "      <th></th>\n",
       "      <th>word</th>\n",
       "      <th>group</th>\n",
       "      <th>cluster</th>\n",
       "    </tr>\n",
       "  </thead>\n",
       "  <tbody>\n",
       "    <tr>\n",
       "      <th>0</th>\n",
       "      <td>oar</td>\n",
       "      <td>0</td>\n",
       "      <td>18</td>\n",
       "    </tr>\n",
       "    <tr>\n",
       "      <th>1</th>\n",
       "      <td>or</td>\n",
       "      <td>0</td>\n",
       "      <td>6</td>\n",
       "    </tr>\n",
       "    <tr>\n",
       "      <th>2</th>\n",
       "      <td>ore</td>\n",
       "      <td>0</td>\n",
       "      <td>0</td>\n",
       "    </tr>\n",
       "    <tr>\n",
       "      <th>3</th>\n",
       "      <td>aye</td>\n",
       "      <td>1</td>\n",
       "      <td>3</td>\n",
       "    </tr>\n",
       "    <tr>\n",
       "      <th>4</th>\n",
       "      <td>eye</td>\n",
       "      <td>1</td>\n",
       "      <td>3</td>\n",
       "    </tr>\n",
       "    <tr>\n",
       "      <th>5</th>\n",
       "      <td>I</td>\n",
       "      <td>1</td>\n",
       "      <td>16</td>\n",
       "    </tr>\n",
       "    <tr>\n",
       "      <th>6</th>\n",
       "      <td>bel</td>\n",
       "      <td>2</td>\n",
       "      <td>1</td>\n",
       "    </tr>\n",
       "    <tr>\n",
       "      <th>7</th>\n",
       "      <td>bell</td>\n",
       "      <td>2</td>\n",
       "      <td>1</td>\n",
       "    </tr>\n",
       "    <tr>\n",
       "      <th>8</th>\n",
       "      <td>belle</td>\n",
       "      <td>2</td>\n",
       "      <td>1</td>\n",
       "    </tr>\n",
       "    <tr>\n",
       "      <th>9</th>\n",
       "      <td>bight</td>\n",
       "      <td>3</td>\n",
       "      <td>12</td>\n",
       "    </tr>\n",
       "    <tr>\n",
       "      <th>10</th>\n",
       "      <td>bite</td>\n",
       "      <td>3</td>\n",
       "      <td>13</td>\n",
       "    </tr>\n",
       "    <tr>\n",
       "      <th>11</th>\n",
       "      <td>byte</td>\n",
       "      <td>3</td>\n",
       "      <td>3</td>\n",
       "    </tr>\n",
       "  </tbody>\n",
       "</table>\n",
       "</div>"
      ],
      "text/plain": [
       "     word  group  cluster\n",
       "0     oar      0       18\n",
       "1      or      0        6\n",
       "2     ore      0        0\n",
       "3     aye      1        3\n",
       "4     eye      1        3\n",
       "5       I      1       16\n",
       "6     bel      2        1\n",
       "7    bell      2        1\n",
       "8   belle      2        1\n",
       "9   bight      3       12\n",
       "10   bite      3       13\n",
       "11   byte      3        3"
      ]
     },
     "execution_count": 22,
     "metadata": {},
     "output_type": "execute_result"
    }
   ],
   "source": [
    "edit.head(12)"
   ]
  },
  {
   "cell_type": "code",
   "execution_count": 23,
   "metadata": {},
   "outputs": [
    {
     "data": {
      "text/html": [
       "<div>\n",
       "<style scoped>\n",
       "    .dataframe tbody tr th:only-of-type {\n",
       "        vertical-align: middle;\n",
       "    }\n",
       "\n",
       "    .dataframe tbody tr th {\n",
       "        vertical-align: top;\n",
       "    }\n",
       "\n",
       "    .dataframe thead th {\n",
       "        text-align: right;\n",
       "    }\n",
       "</style>\n",
       "<table border=\"1\" class=\"dataframe\">\n",
       "  <thead>\n",
       "    <tr style=\"text-align: right;\">\n",
       "      <th></th>\n",
       "      <th>word</th>\n",
       "      <th>group</th>\n",
       "      <th>double-metaphone</th>\n",
       "      <th>cluster</th>\n",
       "    </tr>\n",
       "  </thead>\n",
       "  <tbody>\n",
       "    <tr>\n",
       "      <th>0</th>\n",
       "      <td>oar</td>\n",
       "      <td>0</td>\n",
       "      <td>(AR, )</td>\n",
       "      <td>15</td>\n",
       "    </tr>\n",
       "    <tr>\n",
       "      <th>1</th>\n",
       "      <td>or</td>\n",
       "      <td>0</td>\n",
       "      <td>(AR, )</td>\n",
       "      <td>15</td>\n",
       "    </tr>\n",
       "    <tr>\n",
       "      <th>2</th>\n",
       "      <td>ore</td>\n",
       "      <td>0</td>\n",
       "      <td>(AR, )</td>\n",
       "      <td>15</td>\n",
       "    </tr>\n",
       "    <tr>\n",
       "      <th>3</th>\n",
       "      <td>aye</td>\n",
       "      <td>1</td>\n",
       "      <td>(A, )</td>\n",
       "      <td>15</td>\n",
       "    </tr>\n",
       "    <tr>\n",
       "      <th>4</th>\n",
       "      <td>eye</td>\n",
       "      <td>1</td>\n",
       "      <td>(A, )</td>\n",
       "      <td>15</td>\n",
       "    </tr>\n",
       "    <tr>\n",
       "      <th>5</th>\n",
       "      <td>I</td>\n",
       "      <td>1</td>\n",
       "      <td>(A, )</td>\n",
       "      <td>16</td>\n",
       "    </tr>\n",
       "    <tr>\n",
       "      <th>6</th>\n",
       "      <td>bel</td>\n",
       "      <td>2</td>\n",
       "      <td>(PL, )</td>\n",
       "      <td>0</td>\n",
       "    </tr>\n",
       "    <tr>\n",
       "      <th>7</th>\n",
       "      <td>bell</td>\n",
       "      <td>2</td>\n",
       "      <td>(PL, )</td>\n",
       "      <td>0</td>\n",
       "    </tr>\n",
       "    <tr>\n",
       "      <th>8</th>\n",
       "      <td>belle</td>\n",
       "      <td>2</td>\n",
       "      <td>(PL, )</td>\n",
       "      <td>0</td>\n",
       "    </tr>\n",
       "    <tr>\n",
       "      <th>9</th>\n",
       "      <td>bight</td>\n",
       "      <td>3</td>\n",
       "      <td>(PT, )</td>\n",
       "      <td>1</td>\n",
       "    </tr>\n",
       "    <tr>\n",
       "      <th>10</th>\n",
       "      <td>bite</td>\n",
       "      <td>3</td>\n",
       "      <td>(PT, )</td>\n",
       "      <td>1</td>\n",
       "    </tr>\n",
       "    <tr>\n",
       "      <th>11</th>\n",
       "      <td>byte</td>\n",
       "      <td>3</td>\n",
       "      <td>(PT, )</td>\n",
       "      <td>1</td>\n",
       "    </tr>\n",
       "  </tbody>\n",
       "</table>\n",
       "</div>"
      ],
      "text/plain": [
       "     word  group double-metaphone  cluster\n",
       "0     oar      0           (AR, )       15\n",
       "1      or      0           (AR, )       15\n",
       "2     ore      0           (AR, )       15\n",
       "3     aye      1            (A, )       15\n",
       "4     eye      1            (A, )       15\n",
       "5       I      1            (A, )       16\n",
       "6     bel      2           (PL, )        0\n",
       "7    bell      2           (PL, )        0\n",
       "8   belle      2           (PL, )        0\n",
       "9   bight      3           (PT, )        1\n",
       "10   bite      3           (PT, )        1\n",
       "11   byte      3           (PT, )        1"
      ]
     },
     "execution_count": 23,
     "metadata": {},
     "output_type": "execute_result"
    }
   ],
   "source": [
    "phone.head(12)"
   ]
  },
  {
   "cell_type": "markdown",
   "metadata": {},
   "source": [
    "For the first 12 values, `phone` certainly does better than `edit`, as `phone`'s `cluster`s correspond with it's `group`s more consistently."
   ]
  },
  {
   "cell_type": "markdown",
   "metadata": {},
   "source": [
    "When the distances between words are defined as the Levenshtein distance, we get"
   ]
  },
  {
   "cell_type": "code",
   "execution_count": 24,
   "metadata": {},
   "outputs": [
    {
     "data": {
      "text/plain": [
       "21"
      ]
     },
     "execution_count": 24,
     "metadata": {},
     "output_type": "execute_result"
    }
   ],
   "source": [
    "len(edit[\"cluster\"].value_counts())"
   ]
  },
  {
   "cell_type": "markdown",
   "metadata": {},
   "source": [
    "`cluster`s. Whereas when the distances are phonetic, we get"
   ]
  },
  {
   "cell_type": "code",
   "execution_count": 25,
   "metadata": {},
   "outputs": [
    {
     "data": {
      "text/plain": [
       "17"
      ]
     },
     "execution_count": 25,
     "metadata": {},
     "output_type": "execute_result"
    }
   ],
   "source": [
    "len(phone[\"cluster\"].value_counts())"
   ]
  },
  {
   "cell_type": "markdown",
   "metadata": {},
   "source": [
    "`cluster`s."
   ]
  },
  {
   "cell_type": "markdown",
   "metadata": {},
   "source": [
    "Note that because there are exactly 38 sets of homophones, neither clustering will have scored perfectly. To score perfectly, a clustering would have to have ended up with **exactly** 38 clusters and the implication that, every set of words that fall in the same `cluster` must also belong to the same `group`."
   ]
  },
  {
   "cell_type": "markdown",
   "metadata": {},
   "source": [
    "# Verdict"
   ]
  },
  {
   "cell_type": "markdown",
   "metadata": {},
   "source": [
    "Let's test the two clusterings to see which one more accurately clustered the words into there proper homophonous `group`s."
   ]
  },
  {
   "cell_type": "markdown",
   "metadata": {},
   "source": [
    "We'll use scikit-learn's __[*Completeness*](https://scikit-learn.org/stable/modules/generated/sklearn.metrics.completeness_score.html#sklearn.metrics.completeness_score)__ score as our metric.\n",
    "This __[metric](https://en.wikipedia.org/wiki/Completeness_(statistics))__ takes as input each word's group membership as well as cluster membership then returns a score that tells us how well the clustering performed. The score will always be between **0.0** and **1.0** where higher scores are better than lower scores."
   ]
  },
  {
   "cell_type": "code",
   "execution_count": 26,
   "metadata": {},
   "outputs": [
    {
     "data": {
      "text/plain": [
       "0.8001873829019802"
      ]
     },
     "execution_count": 26,
     "metadata": {},
     "output_type": "execute_result"
    }
   ],
   "source": [
    "metrics.completeness_score(edit[\"group\"],edit[\"cluster\"])"
   ]
  },
  {
   "cell_type": "code",
   "execution_count": 27,
   "metadata": {},
   "outputs": [
    {
     "data": {
      "text/plain": [
       "0.9431511060862334"
      ]
     },
     "execution_count": 27,
     "metadata": {},
     "output_type": "execute_result"
    }
   ],
   "source": [
    "metrics.completeness_score(phone[\"group\"],phone[\"cluster\"])"
   ]
  },
  {
   "cell_type": "markdown",
   "metadata": {},
   "source": [
    "So in the end, despite the fact that affinity propagation gave us fewer clusters for when we compared words phonetically vs. via edit distance, **the phonetic method ultimately gave us a superior clustering**."
   ]
  },
  {
   "cell_type": "markdown",
   "metadata": {},
   "source": [
    "# t-SNE plots"
   ]
  },
  {
   "cell_type": "markdown",
   "metadata": {},
   "source": [
    "While metrics are a rigorous and fool-proof way to test the performance of an algorithm, it also helps if we can visualize our results to gain a better understanding of how well our clustering performed.\n",
    "\n",
    "Fortunately, there is an ingenious algorithm that can allow us to visualize our data: __[t-SNE](https://en.wikipedia.org/wiki/T-distributed_stochastic_neighbor_embedding)__. All it requires is that we provide it with a distance matrix - information on how far each two points (words) are from eachother. As noted earlier, an affinity matrix is just the negative of a distance matrix, and thus a distance matrix is just the negative of an affinity matrix. "
   ]
  },
  {
   "cell_type": "code",
   "execution_count": 28,
   "metadata": {},
   "outputs": [],
   "source": [
    "#Create our distance matrices:\n",
    "#di_ma stands for \"distance matrix\"\n",
    "di_ma_edit = -af_ma_edit\n",
    "di_ma_phone = -af_ma_phone"
   ]
  },
  {
   "cell_type": "markdown",
   "metadata": {},
   "source": [
    "t-SNE takes a hyper-parameter known as `perplexity` as it's argument. The visual results of a t-SNE plot depend greatly on the value chosen for `perplexity` as is shown __[here](https://distill.pub/2016/misread-tsne/)__"
   ]
  },
  {
   "cell_type": "markdown",
   "metadata": {},
   "source": [
    "We'll go with `perplexity=10` this time, but feel free to experiment with other values, too."
   ]
  },
  {
   "cell_type": "code",
   "execution_count": 29,
   "metadata": {},
   "outputs": [],
   "source": [
    "perplexity = 10"
   ]
  },
  {
   "cell_type": "markdown",
   "metadata": {},
   "source": [
    "Each of our plots will be in two dimensions, for simplicity's sake, so we pass argument: `n_components=2`."
   ]
  },
  {
   "cell_type": "code",
   "execution_count": 30,
   "metadata": {},
   "outputs": [],
   "source": [
    "#Initialize our t-SNE clusterings\n",
    "#One for edit distances and one for phonetic distances\n",
    "TSNE_edit = TSNE(n_components=2, perplexity=perplexity, metric='precomputed')\n",
    "TSNE_phone = TSNE(n_components=2, perplexity=perplexity, metric='precomputed')"
   ]
  },
  {
   "cell_type": "code",
   "execution_count": 31,
   "metadata": {},
   "outputs": [],
   "source": [
    "#Pass our distance matrices as arguments to recieve our components\n",
    "#TCs means \"t-SNE components\"\n",
    "TCs_edit = pd.DataFrame(TSNE_edit.fit_transform(di_ma_edit))\n",
    "TCs_phone = pd.DataFrame(TSNE_phone.fit_transform(di_ma_phone))"
   ]
  },
  {
   "cell_type": "code",
   "execution_count": 32,
   "metadata": {},
   "outputs": [],
   "source": [
    "#Appropriately title the columns of our components as 'TCX' and 'TCY' as our 'X' and 'Y' axes\n",
    "TCs_edit.columns = [\"TCX\",\"TCY\"]\n",
    "TCs_phone.columns = [\"TCX\",\"TCY\"]"
   ]
  },
  {
   "cell_type": "code",
   "execution_count": 33,
   "metadata": {},
   "outputs": [],
   "source": [
    "#Merge our t-SNE components with our older DataFrames:\n",
    "edit = pd.concat([edit,TCs_edit], axis=1, join='inner')\n",
    "phone = pd.concat([phone,TCs_phone], axis=1, join='inner')"
   ]
  },
  {
   "cell_type": "code",
   "execution_count": 34,
   "metadata": {},
   "outputs": [
    {
     "data": {
      "text/html": [
       "<div>\n",
       "<style scoped>\n",
       "    .dataframe tbody tr th:only-of-type {\n",
       "        vertical-align: middle;\n",
       "    }\n",
       "\n",
       "    .dataframe tbody tr th {\n",
       "        vertical-align: top;\n",
       "    }\n",
       "\n",
       "    .dataframe thead th {\n",
       "        text-align: right;\n",
       "    }\n",
       "</style>\n",
       "<table border=\"1\" class=\"dataframe\">\n",
       "  <thead>\n",
       "    <tr style=\"text-align: right;\">\n",
       "      <th></th>\n",
       "      <th>word</th>\n",
       "      <th>group</th>\n",
       "      <th>cluster</th>\n",
       "      <th>TCX</th>\n",
       "      <th>TCY</th>\n",
       "    </tr>\n",
       "  </thead>\n",
       "  <tbody>\n",
       "    <tr>\n",
       "      <th>0</th>\n",
       "      <td>oar</td>\n",
       "      <td>0</td>\n",
       "      <td>18</td>\n",
       "      <td>53.209229</td>\n",
       "      <td>76.110176</td>\n",
       "    </tr>\n",
       "    <tr>\n",
       "      <th>1</th>\n",
       "      <td>or</td>\n",
       "      <td>0</td>\n",
       "      <td>6</td>\n",
       "      <td>46.996250</td>\n",
       "      <td>71.498581</td>\n",
       "    </tr>\n",
       "    <tr>\n",
       "      <th>2</th>\n",
       "      <td>ore</td>\n",
       "      <td>0</td>\n",
       "      <td>0</td>\n",
       "      <td>48.309429</td>\n",
       "      <td>60.985668</td>\n",
       "    </tr>\n",
       "    <tr>\n",
       "      <th>3</th>\n",
       "      <td>aye</td>\n",
       "      <td>1</td>\n",
       "      <td>3</td>\n",
       "      <td>-36.992531</td>\n",
       "      <td>25.863525</td>\n",
       "    </tr>\n",
       "    <tr>\n",
       "      <th>4</th>\n",
       "      <td>eye</td>\n",
       "      <td>1</td>\n",
       "      <td>3</td>\n",
       "      <td>-28.790991</td>\n",
       "      <td>24.447079</td>\n",
       "    </tr>\n",
       "    <tr>\n",
       "      <th>5</th>\n",
       "      <td>I</td>\n",
       "      <td>1</td>\n",
       "      <td>16</td>\n",
       "      <td>-42.596378</td>\n",
       "      <td>-5.045608</td>\n",
       "    </tr>\n",
       "    <tr>\n",
       "      <th>6</th>\n",
       "      <td>bel</td>\n",
       "      <td>2</td>\n",
       "      <td>1</td>\n",
       "      <td>-9.788130</td>\n",
       "      <td>-35.210903</td>\n",
       "    </tr>\n",
       "    <tr>\n",
       "      <th>7</th>\n",
       "      <td>bell</td>\n",
       "      <td>2</td>\n",
       "      <td>1</td>\n",
       "      <td>-6.172278</td>\n",
       "      <td>-41.556351</td>\n",
       "    </tr>\n",
       "    <tr>\n",
       "      <th>8</th>\n",
       "      <td>belle</td>\n",
       "      <td>2</td>\n",
       "      <td>1</td>\n",
       "      <td>-7.939948</td>\n",
       "      <td>-48.455708</td>\n",
       "    </tr>\n",
       "    <tr>\n",
       "      <th>9</th>\n",
       "      <td>bight</td>\n",
       "      <td>3</td>\n",
       "      <td>12</td>\n",
       "      <td>78.307594</td>\n",
       "      <td>-6.474800</td>\n",
       "    </tr>\n",
       "    <tr>\n",
       "      <th>10</th>\n",
       "      <td>bite</td>\n",
       "      <td>3</td>\n",
       "      <td>13</td>\n",
       "      <td>-50.396965</td>\n",
       "      <td>58.499763</td>\n",
       "    </tr>\n",
       "    <tr>\n",
       "      <th>11</th>\n",
       "      <td>byte</td>\n",
       "      <td>3</td>\n",
       "      <td>3</td>\n",
       "      <td>-46.916447</td>\n",
       "      <td>47.581432</td>\n",
       "    </tr>\n",
       "  </tbody>\n",
       "</table>\n",
       "</div>"
      ],
      "text/plain": [
       "     word  group  cluster        TCX        TCY\n",
       "0     oar      0       18  53.209229  76.110176\n",
       "1      or      0        6  46.996250  71.498581\n",
       "2     ore      0        0  48.309429  60.985668\n",
       "3     aye      1        3 -36.992531  25.863525\n",
       "4     eye      1        3 -28.790991  24.447079\n",
       "5       I      1       16 -42.596378  -5.045608\n",
       "6     bel      2        1  -9.788130 -35.210903\n",
       "7    bell      2        1  -6.172278 -41.556351\n",
       "8   belle      2        1  -7.939948 -48.455708\n",
       "9   bight      3       12  78.307594  -6.474800\n",
       "10   bite      3       13 -50.396965  58.499763\n",
       "11   byte      3        3 -46.916447  47.581432"
      ]
     },
     "execution_count": 34,
     "metadata": {},
     "output_type": "execute_result"
    }
   ],
   "source": [
    "edit.head(12)"
   ]
  },
  {
   "cell_type": "code",
   "execution_count": 35,
   "metadata": {},
   "outputs": [
    {
     "data": {
      "text/html": [
       "<div>\n",
       "<style scoped>\n",
       "    .dataframe tbody tr th:only-of-type {\n",
       "        vertical-align: middle;\n",
       "    }\n",
       "\n",
       "    .dataframe tbody tr th {\n",
       "        vertical-align: top;\n",
       "    }\n",
       "\n",
       "    .dataframe thead th {\n",
       "        text-align: right;\n",
       "    }\n",
       "</style>\n",
       "<table border=\"1\" class=\"dataframe\">\n",
       "  <thead>\n",
       "    <tr style=\"text-align: right;\">\n",
       "      <th></th>\n",
       "      <th>word</th>\n",
       "      <th>group</th>\n",
       "      <th>double-metaphone</th>\n",
       "      <th>cluster</th>\n",
       "      <th>TCX</th>\n",
       "      <th>TCY</th>\n",
       "    </tr>\n",
       "  </thead>\n",
       "  <tbody>\n",
       "    <tr>\n",
       "      <th>0</th>\n",
       "      <td>oar</td>\n",
       "      <td>0</td>\n",
       "      <td>(AR, )</td>\n",
       "      <td>15</td>\n",
       "      <td>25.208714</td>\n",
       "      <td>12.836110</td>\n",
       "    </tr>\n",
       "    <tr>\n",
       "      <th>1</th>\n",
       "      <td>or</td>\n",
       "      <td>0</td>\n",
       "      <td>(AR, )</td>\n",
       "      <td>15</td>\n",
       "      <td>24.687193</td>\n",
       "      <td>13.033195</td>\n",
       "    </tr>\n",
       "    <tr>\n",
       "      <th>2</th>\n",
       "      <td>ore</td>\n",
       "      <td>0</td>\n",
       "      <td>(AR, )</td>\n",
       "      <td>15</td>\n",
       "      <td>26.139648</td>\n",
       "      <td>13.242627</td>\n",
       "    </tr>\n",
       "    <tr>\n",
       "      <th>3</th>\n",
       "      <td>aye</td>\n",
       "      <td>1</td>\n",
       "      <td>(A, )</td>\n",
       "      <td>15</td>\n",
       "      <td>12.993935</td>\n",
       "      <td>7.789562</td>\n",
       "    </tr>\n",
       "    <tr>\n",
       "      <th>4</th>\n",
       "      <td>eye</td>\n",
       "      <td>1</td>\n",
       "      <td>(A, )</td>\n",
       "      <td>15</td>\n",
       "      <td>12.238345</td>\n",
       "      <td>7.407204</td>\n",
       "    </tr>\n",
       "    <tr>\n",
       "      <th>5</th>\n",
       "      <td>I</td>\n",
       "      <td>1</td>\n",
       "      <td>(A, )</td>\n",
       "      <td>16</td>\n",
       "      <td>12.307961</td>\n",
       "      <td>5.815699</td>\n",
       "    </tr>\n",
       "    <tr>\n",
       "      <th>6</th>\n",
       "      <td>bel</td>\n",
       "      <td>2</td>\n",
       "      <td>(PL, )</td>\n",
       "      <td>0</td>\n",
       "      <td>-3.832036</td>\n",
       "      <td>-17.449820</td>\n",
       "    </tr>\n",
       "    <tr>\n",
       "      <th>7</th>\n",
       "      <td>bell</td>\n",
       "      <td>2</td>\n",
       "      <td>(PL, )</td>\n",
       "      <td>0</td>\n",
       "      <td>-3.829729</td>\n",
       "      <td>-17.452951</td>\n",
       "    </tr>\n",
       "    <tr>\n",
       "      <th>8</th>\n",
       "      <td>belle</td>\n",
       "      <td>2</td>\n",
       "      <td>(PL, )</td>\n",
       "      <td>0</td>\n",
       "      <td>-3.829885</td>\n",
       "      <td>-17.453936</td>\n",
       "    </tr>\n",
       "    <tr>\n",
       "      <th>9</th>\n",
       "      <td>bight</td>\n",
       "      <td>3</td>\n",
       "      <td>(PT, )</td>\n",
       "      <td>1</td>\n",
       "      <td>-5.279347</td>\n",
       "      <td>-15.214774</td>\n",
       "    </tr>\n",
       "    <tr>\n",
       "      <th>10</th>\n",
       "      <td>bite</td>\n",
       "      <td>3</td>\n",
       "      <td>(PT, )</td>\n",
       "      <td>1</td>\n",
       "      <td>-5.279893</td>\n",
       "      <td>-15.212154</td>\n",
       "    </tr>\n",
       "    <tr>\n",
       "      <th>11</th>\n",
       "      <td>byte</td>\n",
       "      <td>3</td>\n",
       "      <td>(PT, )</td>\n",
       "      <td>1</td>\n",
       "      <td>-5.279894</td>\n",
       "      <td>-15.212154</td>\n",
       "    </tr>\n",
       "  </tbody>\n",
       "</table>\n",
       "</div>"
      ],
      "text/plain": [
       "     word  group double-metaphone  cluster        TCX        TCY\n",
       "0     oar      0           (AR, )       15  25.208714  12.836110\n",
       "1      or      0           (AR, )       15  24.687193  13.033195\n",
       "2     ore      0           (AR, )       15  26.139648  13.242627\n",
       "3     aye      1            (A, )       15  12.993935   7.789562\n",
       "4     eye      1            (A, )       15  12.238345   7.407204\n",
       "5       I      1            (A, )       16  12.307961   5.815699\n",
       "6     bel      2           (PL, )        0  -3.832036 -17.449820\n",
       "7    bell      2           (PL, )        0  -3.829729 -17.452951\n",
       "8   belle      2           (PL, )        0  -3.829885 -17.453936\n",
       "9   bight      3           (PT, )        1  -5.279347 -15.214774\n",
       "10   bite      3           (PT, )        1  -5.279893 -15.212154\n",
       "11   byte      3           (PT, )        1  -5.279894 -15.212154"
      ]
     },
     "execution_count": 35,
     "metadata": {},
     "output_type": "execute_result"
    }
   ],
   "source": [
    "phone.head(12)"
   ]
  },
  {
   "cell_type": "markdown",
   "metadata": {},
   "source": [
    "As we can see from looking at the DataFrames above, t-SNE has given us a pair of (X,Y) coordinates for each of our words so that we may plot each of our words as point on a scatterplot."
   ]
  },
  {
   "cell_type": "markdown",
   "metadata": {},
   "source": [
    "We will end up creating four scatterplots in total: 2 plots for the **levenshtein** distance based clustering and 2 for the **phonetic** distance based clustering. Both plots for each method will display the same scatterplot, but will have points coloured with different hues. (Note that each method - **levenshtein** and **phonetic** - will give us a different scatterplot, however.) The first plot for each method will colour the points based on their `group` membership, and the second plot will colour the points based on their `cluster` membership. Visually, a clustering method has performed well if all the sets of points in the first plot that share a colour, *mostly* also share **a** colour in the second plot. (Note that they need not share the *same* colour, but rather *some*  colour.) More concretely, this translates to meaning \"a clustering method has performed well if all the sets of points in the first plot that share a *`group` membership*, *mostly* also share a *`cluster` membership* in the second plot\". This is similar to how we measured the performance of our clustering with a metric, earlier - but this time, we're doing a *visual* test, rather than a *statistical* test."
   ]
  },
  {
   "cell_type": "code",
   "execution_count": 36,
   "metadata": {},
   "outputs": [],
   "source": [
    "#Needed to colour our plots\n",
    "num_groups = len(edit[\"group\"].value_counts())\n",
    "num_clusters_edit = len(edit[\"cluster\"].value_counts())\n",
    "num_clusters_phone = len(phone[\"cluster\"].value_counts())"
   ]
  },
  {
   "cell_type": "code",
   "execution_count": 37,
   "metadata": {},
   "outputs": [],
   "source": [
    "#The titles of our plots\n",
    "title1 = \"t-SNE plot with perplexity=\" + str(perplexity) +\"\\n(colours tell us group membership)\"\n",
    "title2 = \"t-SNE plot with perplexity=\" + str(perplexity) +\"\\n(colours tell us cluster membership)\""
   ]
  },
  {
   "cell_type": "code",
   "execution_count": 38,
   "metadata": {},
   "outputs": [],
   "source": [
    "#Define the dimensions of our plots\n",
    "dim_plot = (20,15)"
   ]
  },
  {
   "cell_type": "markdown",
   "metadata": {},
   "source": [
    "### Edit Distance Based Clustering Visualization:"
   ]
  },
  {
   "cell_type": "code",
   "execution_count": 39,
   "metadata": {},
   "outputs": [
    {
     "data": {
      "text/plain": [
       "Text(0.5, 1.0, 't-SNE plot with perplexity=10\\n(colours tell us cluster membership)')"
      ]
     },
     "execution_count": 39,
     "metadata": {},
     "output_type": "execute_result"
    },
    {
     "data": {
      "image/png": "[encoded data removed]",
      "text/plain": [
       "<Figure size 1440x1080 with 2 Axes>"
      ]
     },
     "metadata": {
      "needs_background": "light"
     },
     "output_type": "display_data"
    }
   ],
   "source": [
    "fig, ax = plt.subplots(nrows=1, ncols=2, figsize=dim_plot)\n",
    "sns.scatterplot(ax = ax[0], x=\"TCX\", y=\"TCY\", hue=\"group\", palette=sns.color_palette(\"hls\", num_groups), data=edit).set_title(title1)\n",
    "sns.scatterplot(ax = ax[1], x=\"TCX\", y=\"TCY\", hue=\"cluster\", palette=sns.color_palette(\"hls\", num_clusters_edit), data=edit).set_title(title2)"
   ]
  },
  {
   "cell_type": "markdown",
   "metadata": {},
   "source": [
    "### Phonetic Distance Based Clustering Visualization:"
   ]
  },
  {
   "cell_type": "code",
   "execution_count": 40,
   "metadata": {},
   "outputs": [
    {
     "data": {
      "text/plain": [
       "Text(0.5, 1.0, 't-SNE plot with perplexity=10\\n(colours tell us cluster membership)')"
      ]
     },
     "execution_count": 40,
     "metadata": {},
     "output_type": "execute_result"
    },
    {
     "data": {
      "image/png": "[encoded data removed]",
      "text/plain": [
       "<Figure size 1440x1080 with 2 Axes>"
      ]
     },
     "metadata": {
      "needs_background": "light"
     },
     "output_type": "display_data"
    }
   ],
   "source": [
    "fig, ax = plt.subplots(nrows=1, ncols=2, figsize=dim_plot)\n",
    "sns.scatterplot(ax = ax[0], x=\"TCX\", y=\"TCY\", hue=\"group\", palette=sns.color_palette(\"hls\", num_groups), data=phone).set_title(title1)\n",
    "sns.scatterplot(ax = ax[1], x=\"TCX\", y=\"TCY\", hue=\"cluster\", palette=sns.color_palette(\"hls\", num_clusters_phone), data=phone).set_title(title2)"
   ]
  },
  {
   "cell_type": "markdown",
   "metadata": {},
   "source": [
    "It should be noted that, because t-SNE only takes as input a simple distance matrix that merely specifies distances between points (words), it will not *always* give us the most accurate plots. But with that said, from looking at the t-SNE plots with `perplexity=10`, it appears that the phonetic method did a much better job than the edit-based method when it came to maximizing the distances between different clusters.\n",
    "\n",
    "And while it's quite difficult to tell, visually, whether *most* points that belong to the same `group` also beolong to the same `cluster`, it's not *that* difficult to determine whether of not *some* points that belong to the same `group` also belong to the same `cluster` - especially for the phonetic plot. And from visually sampling a few sets of points, it appears clear that the phonetic method beats the levenshtein method here, too."
   ]
  },
  {
   "cell_type": "markdown",
   "metadata": {},
   "source": [
    "# Closing"
   ]
  },
  {
   "cell_type": "markdown",
   "metadata": {},
   "source": [
    "And with that, I hope that we've properly demonstrated to you - both **Statistically** and **Visually** - that clustering words based on a phonetic distance is superior to clustering words based on a levenshtein (edit) distance when the goal is to cluster together similar sounding words."
   ]
  },
  {
   "cell_type": "markdown",
   "metadata": {},
   "source": [
    "#  ___________\n",
    "< Thanks for Reading! >\n",
    "  -------------------------\n",
    "        \\   ^__^\n",
    "         \\  (oo)\\_______\n",
    "            (__)\\       )\\/\\\n",
    "                ||----w |\n",
    "                ||     ||"
   ]
  },
  {
   "cell_type": "code",
   "execution_count": null,
   "metadata": {},
   "outputs": [],
   "source": []
  }
 ],
 "metadata": {
  "kernelspec": {
   "display_name": "Python 3",
   "language": "python",
   "name": "python3"
  },
  "language_info": {
   "codemirror_mode": {
    "name": "ipython",
    "version": 3
   },
   "file_extension": ".py",
   "mimetype": "text/x-python",
   "name": "python",
   "nbconvert_exporter": "python",
   "pygments_lexer": "ipython3",
   "version": "3.7.7"
  }
 },
 "nbformat": 4,
 "nbformat_minor": 2
}
